{
 "cells": [
  {
   "cell_type": "code",
   "execution_count": 1,
   "id": "lesser-alarm",
   "metadata": {
    "pycharm": {
     "name": "#%%\n"
    }
   },
   "outputs": [],
   "source": [
    "from typing import Callable, Tuple\n",
    "import numpy as np\n",
    "import functions"
   ]
  },
  {
   "cell_type": "code",
   "execution_count": 2,
   "id": "rotary-luxury",
   "metadata": {
    "pycharm": {
     "name": "#%%\n"
    }
   },
   "outputs": [],
   "source": [
    "def is_pos_def(x):\n",
    "    return np.all(np.linalg.eigvals(x) > 0)"
   ]
  },
  {
   "cell_type": "code",
   "execution_count": 3,
   "id": "favorite-afternoon",
   "metadata": {
    "pycharm": {
     "name": "#%%\n"
    }
   },
   "outputs": [],
   "source": [
    "def newton(f: Callable, f_grad: Callable, f_hess: Callable, x0, eps=1e-6):\n",
    "    it = 1\n",
    "    x = x0\n",
    "\n",
    "    while True:\n",
    "        grad = f_grad(x)\n",
    "        hess = f_hess(x)\n",
    "\n",
    "        if np.linalg.norm(grad) < eps:\n",
    "            return x\n",
    "\n",
    "        step = grad.dot(np.linalg.inv(hess))\n",
    "        x -= step\n",
    "        it += 1"
   ]
  },
  {
   "cell_type": "code",
   "execution_count": 4,
   "id": "antique-preview",
   "metadata": {
    "pycharm": {
     "name": "#%%\n"
    }
   },
   "outputs": [
    {
     "name": "stdout",
     "output_type": "stream",
     "text": [
      "[0. 1.]\n"
     ]
    }
   ],
   "source": [
    "def test_f(arg):\n",
    "    return arg[0] ** 2 + (arg[1] - 1) ** 2\n",
    "\n",
    "def test_f_grad(arg):\n",
    "    return np.array([arg[0] * 2, arg[1] * 2 - 2])\n",
    "\n",
    "def test_f_hess(arg):\n",
    "    return np.array([[2.0, 0.0], [0.0, 2.0]])\n",
    "\n",
    "print(newton(functions.f1, functions.f1_grad,  functions.f1_hess, np.array([-10.0, 15.0])))"
   ]
  }
 ],
 "metadata": {
  "kernelspec": {
   "display_name": "Python 3",
   "language": "python",
   "name": "python3"
  },
  "language_info": {
   "codemirror_mode": {
    "name": "ipython",
    "version": 3
   },
   "file_extension": ".py",
   "mimetype": "text/x-python",
   "name": "python",
   "nbconvert_exporter": "python",
   "pygments_lexer": "ipython3",
   "version": "3.6.9"
  }
 },
 "nbformat": 4,
 "nbformat_minor": 5
}