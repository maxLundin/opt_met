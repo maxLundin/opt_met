{
 "cells": [
  {
   "cell_type": "code",
   "execution_count": 1,
   "id": "lesser-alarm",
   "metadata": {
    "pycharm": {
     "name": "#%%\n"
    }
   },
   "outputs": [],
   "source": [
    "from typing import Callable, Tuple\n",
    "import numpy as np"
   ]
  },
  {
   "cell_type": "code",
   "execution_count": 2,
   "id": "favorite-afternoon",
   "metadata": {
    "pycharm": {
     "name": "#%%\n"
    }
   },
   "outputs": [],
   "source": [
    "def dihotomi(f, left_border, right_border, eps=1e-6):\n",
    "    iters = 0\n",
    "    delta = eps / 4\n",
    "    while right_border - left_border > eps:\n",
    "        iters += 1\n",
    "        mid = (left_border + right_border) / 2\n",
    "        x1 = mid - delta\n",
    "        x2 = mid + delta\n",
    "        f1 = f(x1)\n",
    "        f2 = f(x2)\n",
    "        if f1 < f2:\n",
    "            right_border = x2\n",
    "        elif f1 > f2:\n",
    "            left_border = x1\n",
    "        else:\n",
    "            return mid, iters\n",
    "    return (left_border + right_border) / 2, iters"
   ]
  },
  {
   "cell_type": "code",
   "execution_count": 3,
   "id": "signed-hierarchy",
   "metadata": {
    "pycharm": {
     "name": "#%%\n"
    }
   },
   "outputs": [],
   "source": [
    "def search_range_with_min(f: Callable, x0: float, step=0.1, eps=1e-6) -> Tuple[float, float]:\n",
    "    if f(x0) < f(x0 + step):\n",
    "        step *= -1\n",
    "\n",
    "    y0 = f(x0)\n",
    "    x = x0 + step\n",
    "\n",
    "    while f(x) < y0 + eps:\n",
    "        step *= 2\n",
    "        x += step\n",
    "\n",
    "    if step > 0:\n",
    "        return x0, x\n",
    "    return x, x0\n"
   ]
  },
  {
   "cell_type": "code",
   "execution_count": 4,
   "id": "convertible-formula",
   "metadata": {
    "pycharm": {
     "name": "#%%\n"
    }
   },
   "outputs": [],
   "source": [
    "def calculate_step(f: Callable, x: float, grad: float):\n",
    "    step_f = lambda step: f(x + step * grad)\n",
    "    left, right = search_range_with_min(step_f, 0)\n",
    "    arg, _ = dihotomi(step_f, left, right)\n",
    "    return arg\n"
   ]
  },
  {
   "cell_type": "code",
   "execution_count": 5,
   "id": "selective-haven",
   "metadata": {
    "pycharm": {
     "name": "#%%\n"
    }
   },
   "outputs": [],
   "source": [
    "def gradient_descent(f: Callable, f_grad: Callable, x0, eps=1e-12, max_iter=1e8):\n",
    "    x = x0\n",
    "\n",
    "    it = 0\n",
    "    while True:\n",
    "        grad = -f_grad(x)\n",
    "\n",
    "        step = calculate_step(f, x, grad)\n",
    "        next_x = x + step * grad\n",
    "\n",
    "        if abs(f(next_x) - f(x)) < eps or np.linalg.norm(grad) > eps or it >= max_iter:\n",
    "            return next_x\n",
    "\n",
    "        x = next_x\n",
    "        it += 1\n"
   ]
  },
  {
   "cell_type": "code",
   "execution_count": 6,
   "id": "junior-exhibition",
   "metadata": {
    "pycharm": {
     "name": "#%%\n"
    },
    "scrolled": true
   },
   "outputs": [
    {
     "name": "stdout",
     "output_type": "stream",
     "text": [
      "[2.85875917e-06 9.99995998e-01]\n"
     ]
    }
   ],
   "source": [
    "def test_f(arg):\n",
    "    return arg[0] ** 2 + (arg[1] - 1) ** 2\n",
    "\n",
    "def test_f_grad(arg):\n",
    "    return np.array([arg[0] * 2, arg[1] * 2 - 2])\n",
    "\n",
    "print(gradient_descent(test_f, test_f_grad, np.array([-10, 15])))"
   ]
  }
 ],
 "metadata": {
  "kernelspec": {
   "display_name": "Python 3",
   "language": "python",
   "name": "python3"
  },
  "language_info": {
   "codemirror_mode": {
    "name": "ipython",
    "version": 3
   },
   "file_extension": ".py",
   "mimetype": "text/x-python",
   "name": "python",
   "nbconvert_exporter": "python",
   "pygments_lexer": "ipython3",
   "version": "3.6.9"
  }
 },
 "nbformat": 4,
 "nbformat_minor": 5
}